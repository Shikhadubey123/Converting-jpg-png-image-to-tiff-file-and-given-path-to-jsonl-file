{
 "cells": [
  {
   "cell_type": "code",
   "execution_count": 1,
   "id": "1bd9384e",
   "metadata": {},
   "outputs": [],
   "source": [
    "#!pip install image"
   ]
  },
  {
   "cell_type": "code",
   "execution_count": 2,
   "id": "e211f94f",
   "metadata": {},
   "outputs": [],
   "source": [
    "#!pip install pillow"
   ]
  },
  {
   "cell_type": "code",
   "execution_count": 7,
   "id": "79bc36a9",
   "metadata": {},
   "outputs": [],
   "source": [
    "#!pip install Image"
   ]
  },
  {
   "cell_type": "markdown",
   "id": "072e2d95",
   "metadata": {},
   "source": [
    "## Convert png image to tiff file and given path of tiff file in jsonl file"
   ]
  },
  {
   "cell_type": "code",
   "execution_count": 27,
   "id": "5b0220a2",
   "metadata": {},
   "outputs": [],
   "source": [
    "import glob\n",
    "from PIL import Image\n",
    "\n",
    "images = glob.glob(\"C:/Users/Admin/Desktop/shikha/*.PNG\")\n",
    "for i in images:\n",
    "    with open(image, 'rb') as file:\n",
    "        img = Image.open(file)\n",
    "        i=os.path.splitext(i)[0]\n",
    "        img.save(i+\".tiff\")"
   ]
  },
  {
   "cell_type": "code",
   "execution_count": 28,
   "id": "30b921c8",
   "metadata": {},
   "outputs": [
    {
     "name": "stdout",
     "output_type": "stream",
     "text": [
      "ok\n"
     ]
    }
   ],
   "source": [
    "new_dst = \"C:/Users/Admin/Desktop/Image/tiff/\"\n",
    "for file in glob.glob(\"C:/Users/Admin/Desktop/shikha/*.tiff\"):\n",
    "    shutil.move(file,new_dst)\n",
    "    \n",
    "print('ok')"
   ]
  },
  {
   "cell_type": "code",
   "execution_count": 29,
   "id": "084887f8",
   "metadata": {},
   "outputs": [],
   "source": [
    "import glob\n",
    "import re\n",
    "a = []\n",
    "for i in list(glob.glob(\"C:/Users/Admin/Desktop/Image/tiff/*.tiff\")):\n",
    "    #print('{\"document\": {\"input_config\": {\"gcs_source\": {\"input_uris\": [\"gs://sprint5_buktec/'+str(i)[str(i).rfind(\"/\")+1:]+'\" ]}}}}')\n",
    "    i='{\"document\": {\"input_config\": {\"gcs_source\": {\"input_uris\": [\"gs://buktecnew/'+str(i)[str(i).rfind(\"/\")+1:]+'\" ]}}}}'\n",
    "    i=re.sub('/TIFF', '', i)\n",
    "    a.append(i)\n",
    "    \n",
    "with open('listfile.jsonl', 'w') as filehandle:\n",
    "    for listitem in a:\n",
    "        filehandle.write('%s\\n' % listitem)\n",
    "        #print(a)"
   ]
  },
  {
   "cell_type": "markdown",
   "id": "caf2fa5f",
   "metadata": {},
   "source": [
    "## Convert jpg image to to tiff file and given path of tiff file in jsonl file."
   ]
  },
  {
   "cell_type": "code",
   "execution_count": 10,
   "id": "0eece6a6",
   "metadata": {},
   "outputs": [],
   "source": [
    "import os"
   ]
  },
  {
   "cell_type": "code",
   "execution_count": 17,
   "id": "c501a39a",
   "metadata": {},
   "outputs": [],
   "source": [
    "import glob\n",
    "from PIL import Image\n",
    "\n",
    "images = glob.glob(\"C:/Users/Admin/Desktop/shikha/Docker Container.JPG\")\n",
    "for i in images:\n",
    "    with open(image, 'rb') as file:\n",
    "        img = Image.open(file)\n",
    "        i=os.path.splitext(i)[0]\n",
    "        img.save(i+\".tiff\")"
   ]
  },
  {
   "cell_type": "code",
   "execution_count": 24,
   "id": "cee811ca",
   "metadata": {},
   "outputs": [],
   "source": [
    "import glob\n",
    "from PIL import Image\n",
    "\n",
    "images = glob.glob(\"C:/Users/Admin/Desktop/Image/*.jpg\")\n",
    "for i in images:\n",
    "    with open(image, 'rb') as file:\n",
    "        img = Image.open(file)\n",
    "        i=os.path.splitext(i)[0]\n",
    "        img.save(i+\".tiff\")"
   ]
  },
  {
   "cell_type": "code",
   "execution_count": 25,
   "id": "3c1cf4ec",
   "metadata": {},
   "outputs": [],
   "source": [
    "import shutil"
   ]
  },
  {
   "cell_type": "code",
   "execution_count": 26,
   "id": "4b7c023e",
   "metadata": {},
   "outputs": [
    {
     "name": "stdout",
     "output_type": "stream",
     "text": [
      "ok\n"
     ]
    }
   ],
   "source": [
    "new_dst = \"C:/Users/Admin/Desktop/Image/tiff/\"\n",
    "for file in glob.glob(\"C:/Users/Admin/Desktop/Image/*.tiff\"):\n",
    "    shutil.move(file,new_dst)\n",
    "    \n",
    "print('ok')"
   ]
  },
  {
   "cell_type": "code",
   "execution_count": null,
   "id": "203265f5",
   "metadata": {},
   "outputs": [],
   "source": []
  }
 ],
 "metadata": {
  "kernelspec": {
   "display_name": "Python 3",
   "language": "python",
   "name": "python3"
  },
  "language_info": {
   "codemirror_mode": {
    "name": "ipython",
    "version": 3
   },
   "file_extension": ".py",
   "mimetype": "text/x-python",
   "name": "python",
   "nbconvert_exporter": "python",
   "pygments_lexer": "ipython3",
   "version": "3.8.8"
  }
 },
 "nbformat": 4,
 "nbformat_minor": 5
}
